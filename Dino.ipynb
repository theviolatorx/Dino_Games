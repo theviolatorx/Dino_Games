{
 "cells": [
  {
   "cell_type": "code",
   "execution_count": 1,
   "metadata": {},
   "outputs": [
    {
     "name": "stdout",
     "output_type": "stream",
     "text": [
      "pygame 2.4.0 (SDL 2.26.4, Python 3.11.3)\n",
      "Hello from the pygame community. https://www.pygame.org/contribute.html\n"
     ]
    }
   ],
   "source": [
    "import pygame\n",
    "from pygame.locals import *\n",
    "from sys import exit\n",
    "import os\n",
    "\n",
    "dir_imagens = './imagens/'\n",
    "dir_sons = './sons/'\n",
    "\n",
    "lar, alt = 640, 480\n",
    "BRANCO = (255, 255, 255)\n",
    "\n",
    "tela = pygame.display.set_mode((lar, alt))\n",
    "pygame.display.set_caption(\"Dino's Game\")\n",
    "\n",
    "sprite_sheet = pygame.image.load('./imagens/dinoSpritesheet.png').convert_alpha()"
   ]
  },
  {
   "cell_type": "code",
   "execution_count": 2,
   "metadata": {},
   "outputs": [],
   "source": [
    "class Dino(pygame.sprite.Sprite):\n",
    "    def __init__(self):\n",
    "        pygame.sprite.Sprite.__init__(self)\n",
    "        self.imagens_dino = []\n",
    "        for i in range(3):\n",
    "            img = sprite_sheet.subsurface((32 * i,0), (32 , 32))\n",
    "            img = pygame.transform.scale(img, (32 * 3, 32 * 3))\n",
    "            self.imagens_dino.append(img)\n",
    "        self.index_lista = 0\n",
    "        self.image = self.imagens_dino[self.index_lista]\n",
    "        self.rect = self.image.get_rect()\n",
    "        self.rect.center = (100, 100)\n",
    "\n",
    "    def update(self):\n",
    "        if self.index_lista > 2:\n",
    "            self.index_lista = 0\n",
    "        self.index_lista += 0.25\n",
    "        self.image = self.imagens_dino[int(self.index_lista)]\n",
    "            "
   ]
  },
  {
   "cell_type": "code",
   "execution_count": 3,
   "metadata": {},
   "outputs": [
    {
     "ename": "SystemExit",
     "evalue": "",
     "output_type": "error",
     "traceback": [
      "An exception has occurred, use %tb to see the full traceback.\n",
      "\u001b[1;31mSystemExit\u001b[0m\n"
     ]
    },
    {
     "name": "stderr",
     "output_type": "stream",
     "text": [
      "c:\\Python311\\Lib\\site-packages\\IPython\\core\\interactiveshell.py:3516: UserWarning: To exit: use 'exit', 'quit', or Ctrl-D.\n",
      "  warn(\"To exit: use 'exit', 'quit', or Ctrl-D.\", stacklevel=1)\n"
     ]
    }
   ],
   "source": [
    "todas_as_sprites = pygame.sprite.Group()\n",
    "dino = Dino()\n",
    "todas_as_sprites.add(dino)\n",
    "\n",
    "relogio = pygame.time.Clock()\n",
    "while True:\n",
    "    relogio.tick(30)\n",
    "    tela.fill(BRANCO)\n",
    "\n",
    "    for event in pygame.event.get():\n",
    "        if event.type == QUIT:\n",
    "            pygame.quit()\n",
    "            exit()\n",
    "\n",
    "    todas_as_sprites.draw(tela)\n",
    "    todas_as_sprites.update()\n",
    "\n",
    "    pygame.display.flip()"
   ]
  }
 ],
 "metadata": {
  "kernelspec": {
   "display_name": "Python 3",
   "language": "python",
   "name": "python3"
  },
  "language_info": {
   "codemirror_mode": {
    "name": "ipython",
    "version": 3
   },
   "file_extension": ".py",
   "mimetype": "text/x-python",
   "name": "python",
   "nbconvert_exporter": "python",
   "pygments_lexer": "ipython3",
   "version": "3.11.3"
  },
  "orig_nbformat": 4
 },
 "nbformat": 4,
 "nbformat_minor": 2
}
